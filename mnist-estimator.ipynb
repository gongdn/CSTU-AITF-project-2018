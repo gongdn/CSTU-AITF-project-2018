{
 "cells": [
  {
   "cell_type": "markdown",
   "metadata": {
    "deletable": true,
    "editable": true
   },
   "source": [
    "# Import TF and MNIST"
   ]
  },
  {
   "cell_type": "markdown",
   "metadata": {},
   "source": [
    "# Test it on TF 1.9.0"
   ]
  },
  {
   "cell_type": "code",
   "execution_count": 17,
   "metadata": {
    "collapsed": false,
    "deletable": true,
    "editable": true,
    "scrolled": true
   },
   "outputs": [],
   "source": [
    "import tensorflow as tf\n",
    "from tensorflow.examples.tutorials.mnist import input_data\n",
    "#mnist = input_data.read_data_sets(\"/tmp/data/\", one_hot=True)"
   ]
  },
  {
   "cell_type": "markdown",
   "metadata": {
    "deletable": true,
    "editable": true
   },
   "source": [
    "# Hyperparameters"
   ]
  },
  {
   "cell_type": "code",
   "execution_count": 10,
   "metadata": {
    "collapsed": true,
    "deletable": true,
    "editable": true
   },
   "outputs": [],
   "source": [
    "learning_rate = 1e-3\n",
    "num_steps = 1000\n",
    "batch_size = 100\n",
    "display_step = 100"
   ]
  },
  {
   "cell_type": "markdown",
   "metadata": {
    "deletable": true,
    "editable": true
   },
   "source": [
    "# Input and Output sizes"
   ]
  },
  {
   "cell_type": "code",
   "execution_count": 11,
   "metadata": {
    "collapsed": true,
    "deletable": true,
    "editable": true
   },
   "outputs": [],
   "source": [
    "# MNIST data input (img shape: 28*28)\n",
    "num_input = 784\n",
    "# MNIST total classes (0-9 digits)\n",
    "num_classes = 10"
   ]
  },
  {
   "cell_type": "markdown",
   "metadata": {
    "deletable": true,
    "editable": true
   },
   "source": [
    "# Using high level Estimator to simplify code!\n",
    "# Required TensorFlow 1.3.0 and up"
   ]
  },
  {
   "cell_type": "markdown",
   "metadata": {
    "deletable": true,
    "editable": true
   },
   "source": [
    "## Define a next_batch FN!"
   ]
  },
  {
   "cell_type": "code",
   "execution_count": 12,
   "metadata": {
    "collapsed": true,
    "deletable": true,
    "editable": true
   },
   "outputs": [],
   "source": [
    "def next_batch_fn(dataset, batch_size=batch_size):\n",
    "    def _input_fn():\n",
    "        X = tf.constant(dataset.images)\n",
    "        Y = tf.constant(dataset.labels, dtype=tf.int32)\n",
    "        image_batch, label_batch = tf.train.shuffle_batch([X,Y],\n",
    "                               batch_size=batch_size,\n",
    "                               capacity=8*batch_size,\n",
    "                               min_after_dequeue=4*batch_size,\n",
    "                               enqueue_many=True)\n",
    "        print(\"Finished preparing data for shuffled batch.\")\n",
    "        return {'pixels': image_batch} , label_batch\n",
    "    return _input_fn"
   ]
  },
  {
   "cell_type": "markdown",
   "metadata": {
    "deletable": true,
    "editable": true
   },
   "source": [
    "## Use estimator.LinearClassifier (softmax)"
   ]
  },
  {
   "cell_type": "code",
   "execution_count": 13,
   "metadata": {
    "collapsed": true,
    "deletable": true,
    "editable": true
   },
   "outputs": [],
   "source": [
    "def estimator_linear_classifier(dataset, log_level=tf.logging.ERROR, num_steps=num_steps):\n",
    "    print(\"\\n-----Running linear classifier...\")\n",
    "    tf.logging.set_verbosity(log_level)\n",
    "    pixel_features = tf.contrib.layers.real_valued_column(\n",
    "        \"pixels\", dimension=num_input)\n",
    "    \n",
    "    classifier = tf.estimator.LinearClassifier(\n",
    "        feature_columns=[pixel_features],\n",
    "        n_classes=num_classes,\n",
    "        optimizer=tf.train.AdamOptimizer(learning_rate=learning_rate)\n",
    "    )\n",
    "\n",
    "    print(\"Start training.\")\n",
    "    classifier.train(\n",
    "        input_fn=next_batch_fn(dataset.train),\n",
    "        steps=num_steps)\n",
    "\n",
    "    print(\"Finish training.\")\n",
    "\n",
    "    # Evaluate accuracy.\n",
    "    test_result = classifier.evaluate(\n",
    "        input_fn=next_batch_fn(dataset.test),\n",
    "        steps=10)\n",
    "    print('Accuracy: {0:f}'.format(test_result['accuracy']))\n"
   ]
  },
  {
   "cell_type": "markdown",
   "metadata": {
    "deletable": true,
    "editable": true
   },
   "source": [
    "## Evaluate"
   ]
  },
  {
   "cell_type": "code",
   "execution_count": 14,
   "metadata": {
    "collapsed": false,
    "deletable": true,
    "editable": true
   },
   "outputs": [
    {
     "name": "stdout",
     "output_type": "stream",
     "text": [
      "Extracting /tmp/data/train-images-idx3-ubyte.gz\n",
      "Extracting /tmp/data/train-labels-idx1-ubyte.gz\n",
      "Extracting /tmp/data/t10k-images-idx3-ubyte.gz\n",
      "Extracting /tmp/data/t10k-labels-idx1-ubyte.gz\n",
      "\n",
      "-----Running linear classifier...\n",
      "Start training.\n",
      "Finished preparing data for shuffled batch.\n",
      "Finish training.\n",
      "Finished preparing data for shuffled batch.\n",
      "Accuracy: 0.892000\n"
     ]
    }
   ],
   "source": [
    "# estimator_linear_classifier(mnist)\n",
    "mnist_without_onehot = input_data.read_data_sets(\"/tmp/data/\")\n",
    "estimator_linear_classifier(mnist_without_onehot)\n",
    "# estimator_linear_classifier(mnist_without_onehot, tf.logging.INFO, 500)"
   ]
  },
  {
   "cell_type": "markdown",
   "metadata": {
    "deletable": true,
    "editable": true
   },
   "source": [
    "## DNN for MNIST using estimator"
   ]
  },
  {
   "cell_type": "code",
   "execution_count": 15,
   "metadata": {
    "collapsed": true,
    "deletable": true,
    "editable": true
   },
   "outputs": [],
   "source": [
    "def estimator_dnn_classifier(\n",
    "    dataset, log_level=tf.logging.ERROR, num_steps=num_steps):\n",
    "    print(\"\\n-----Running linear classifier...\")\n",
    "    tf.logging.set_verbosity(log_level)\n",
    "\n",
    "    pixel_features = tf.contrib.layers.real_valued_column(\n",
    "        \"pixels\", dimension=num_input)\n",
    "    \n",
    "    classifier = tf.estimator.DNNClassifier(\n",
    "        feature_columns=[pixel_features],\n",
    "        n_classes=10,\n",
    "        hidden_units=[512,512,256,256,256,128], # notice how simple it is!\n",
    "        optimizer=tf.train.AdamOptimizer(learning_rate=learning_rate),\n",
    "        activation_fn=tf.nn.relu,\n",
    "#         dropout=0.5,\n",
    "    )\n",
    "    classifier.train(\n",
    "        input_fn=next_batch_fn(dataset.train),\n",
    "        steps=num_steps)\n",
    "    print(\"Finished training the DNN model\")\n",
    "\n",
    "    print(\"\\n---Evaluating DNN classifier accuracy...\")\n",
    "    result = classifier.evaluate(\n",
    "        input_fn=next_batch_fn(dataset.test),\n",
    "        steps=10)\n",
    "    print('DNN Classifier Accuracy: {0:f}'.format(result['accuracy']))"
   ]
  },
  {
   "cell_type": "markdown",
   "metadata": {
    "deletable": true,
    "editable": true
   },
   "source": [
    "## Evaluate"
   ]
  },
  {
   "cell_type": "code",
   "execution_count": 16,
   "metadata": {
    "collapsed": false,
    "deletable": true,
    "editable": true
   },
   "outputs": [
    {
     "name": "stdout",
     "output_type": "stream",
     "text": [
      "\n",
      "-----Running linear classifier...\n",
      "INFO:tensorflow:Using default config.\n",
      "WARNING:tensorflow:Using temporary folder as model directory: C:\\Users\\dgong\\AppData\\Local\\Temp\\tmpx56new9z\n",
      "INFO:tensorflow:Using config: {'_task_id': 0, '_master': '', '_num_worker_replicas': 1, '_num_ps_replicas': 0, '_evaluation_master': '', '_device_fn': None, '_tf_random_seed': None, '_task_type': 'worker', '_save_summary_steps': 100, '_service': None, '_log_step_count_steps': 100, '_cluster_spec': <tensorflow.python.training.server_lib.ClusterSpec object at 0x0000000012D52A90>, '_model_dir': 'C:\\\\Users\\\\dgong\\\\AppData\\\\Local\\\\Temp\\\\tmpx56new9z', '_global_id_in_cluster': 0, '_save_checkpoints_secs': 600, '_keep_checkpoint_every_n_hours': 10000, '_keep_checkpoint_max': 5, '_save_checkpoints_steps': None, '_session_config': None, '_is_chief': True, '_train_distribute': None}\n",
      "Finished preparing data for shuffled batch.\n",
      "INFO:tensorflow:Calling model_fn.\n",
      "INFO:tensorflow:Done calling model_fn.\n",
      "INFO:tensorflow:Create CheckpointSaverHook.\n",
      "INFO:tensorflow:Graph was finalized.\n",
      "INFO:tensorflow:Running local_init_op.\n",
      "INFO:tensorflow:Done running local_init_op.\n",
      "INFO:tensorflow:Saving checkpoints for 0 into C:\\Users\\dgong\\AppData\\Local\\Temp\\tmpx56new9z\\model.ckpt.\n",
      "INFO:tensorflow:loss = 230.20502, step = 1\n",
      "INFO:tensorflow:global_step/sec: 61.8812\n",
      "INFO:tensorflow:loss = 23.566898, step = 101 (1.617 sec)\n",
      "INFO:tensorflow:global_step/sec: 70.3235\n",
      "INFO:tensorflow:loss = 17.092775, step = 201 (1.422 sec)\n",
      "INFO:tensorflow:global_step/sec: 72.3066\n",
      "INFO:tensorflow:loss = 6.369709, step = 301 (1.383 sec)\n",
      "INFO:tensorflow:global_step/sec: 72.098\n",
      "INFO:tensorflow:loss = 18.928486, step = 401 (1.387 sec)\n",
      "INFO:tensorflow:global_step/sec: 60.2773\n",
      "INFO:tensorflow:loss = 7.4314094, step = 501 (1.660 sec)\n",
      "INFO:tensorflow:global_step/sec: 70.7714\n",
      "INFO:tensorflow:loss = 16.926552, step = 601 (1.412 sec)\n",
      "INFO:tensorflow:global_step/sec: 73.2064\n",
      "INFO:tensorflow:loss = 8.940443, step = 701 (1.366 sec)\n",
      "INFO:tensorflow:global_step/sec: 72.8332\n",
      "INFO:tensorflow:loss = 4.3059287, step = 801 (1.373 sec)\n",
      "INFO:tensorflow:global_step/sec: 74.7384\n",
      "INFO:tensorflow:loss = 2.0422652, step = 901 (1.338 sec)\n",
      "INFO:tensorflow:Saving checkpoints for 1000 into C:\\Users\\dgong\\AppData\\Local\\Temp\\tmpx56new9z\\model.ckpt.\n",
      "INFO:tensorflow:Loss for final step: 17.798948.\n",
      "Finished training the DNN model\n",
      "\n",
      "---Evaluating DNN classifier accuracy...\n",
      "Finished preparing data for shuffled batch.\n",
      "INFO:tensorflow:Calling model_fn.\n",
      "INFO:tensorflow:Done calling model_fn.\n",
      "INFO:tensorflow:Starting evaluation at 2018-07-12-22:34:21\n",
      "INFO:tensorflow:Graph was finalized.\n",
      "INFO:tensorflow:Restoring parameters from C:\\Users\\dgong\\AppData\\Local\\Temp\\tmpx56new9z\\model.ckpt-1000\n",
      "INFO:tensorflow:Running local_init_op.\n",
      "INFO:tensorflow:Done running local_init_op.\n",
      "INFO:tensorflow:Evaluation [1/10]\n",
      "INFO:tensorflow:Evaluation [2/10]\n",
      "INFO:tensorflow:Evaluation [3/10]\n",
      "INFO:tensorflow:Evaluation [4/10]\n",
      "INFO:tensorflow:Evaluation [5/10]\n",
      "INFO:tensorflow:Evaluation [6/10]\n",
      "INFO:tensorflow:Evaluation [7/10]\n",
      "INFO:tensorflow:Evaluation [8/10]\n",
      "INFO:tensorflow:Evaluation [9/10]\n",
      "INFO:tensorflow:Evaluation [10/10]\n",
      "INFO:tensorflow:Finished evaluation at 2018-07-12-22:34:22\n",
      "INFO:tensorflow:Saving dict for global step 1000: accuracy = 0.956, average_loss = 0.15718104, global_step = 1000, loss = 15.718104\n",
      "INFO:tensorflow:Saving 'checkpoint_path' summary for global step 1000: C:\\Users\\dgong\\AppData\\Local\\Temp\\tmpx56new9z\\model.ckpt-1000\n",
      "DNN Classifier Accuracy: 0.956000\n"
     ]
    }
   ],
   "source": [
    "estimator_dnn_classifier(mnist_without_onehot, tf.logging.INFO)\n",
    "# estimator_dnn_classifier(mnist_without_onehot, tf.logging.INFO, 2000)"
   ]
  },
  {
   "cell_type": "code",
   "execution_count": null,
   "metadata": {
    "collapsed": true,
    "deletable": true,
    "editable": true
   },
   "outputs": [],
   "source": []
  }
 ],
 "metadata": {
  "kernelspec": {
   "display_name": "Python 3",
   "language": "python",
   "name": "python3"
  },
  "language_info": {
   "codemirror_mode": {
    "name": "ipython",
    "version": 3
   },
   "file_extension": ".py",
   "mimetype": "text/x-python",
   "name": "python",
   "nbconvert_exporter": "python",
   "pygments_lexer": "ipython3",
   "version": "3.5.2"
  },
  "widgets": {
   "state": {},
   "version": "1.1.2"
  }
 },
 "nbformat": 4,
 "nbformat_minor": 2
}
