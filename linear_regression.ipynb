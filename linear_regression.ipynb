{
 "cells": [
  {
   "cell_type": "markdown",
   "metadata": {},
   "source": [
    "# Import TF and others"
   ]
  },
  {
   "cell_type": "code",
   "execution_count": 1,
   "metadata": {},
   "outputs": [],
   "source": [
    "import numpy as np\n",
    "import matplotlib.pyplot as plt\n",
    "import tensorflow as tf\n",
    "import xlrd"
   ]
  },
  {
   "cell_type": "markdown",
   "metadata": {},
   "source": [
    "# Read fire_theft file and process"
   ]
  },
  {
   "cell_type": "code",
   "execution_count": 43,
   "metadata": {},
   "outputs": [],
   "source": [
    "# X = fires per 1000 housing units\n",
    "# Y = thefts per 1000 population\n",
    "# Downloaded from\n",
    "# http://college.cengage.com/mathematics/brase/understandable_statistics/7e/students/datasets/slr/excel/slr05.xls\n",
    "DATA_FILE = \"slr05.xls\"\n",
    "book = xlrd.open_workbook(DATA_FILE, encoding_override=\"utf-8\")\n",
    "sheet = book.sheet_by_index(0)\n",
    "data = np.asarray([sheet.row_values(i) for i in range(1, sheet.nrows)])"
   ]
  },
  {
   "cell_type": "markdown",
   "metadata": {},
   "source": [
    "# Count excluding header"
   ]
  },
  {
   "cell_type": "code",
   "execution_count": 44,
   "metadata": {},
   "outputs": [
    {
     "name": "stdout",
     "output_type": "stream",
     "text": [
      "42\n"
     ]
    }
   ],
   "source": [
    "n_samples = sheet.nrows - 1\n",
    "print(n_samples)"
   ]
  },
  {
   "cell_type": "markdown",
   "metadata": {},
   "source": [
    "# Peek the data"
   ]
  },
  {
   "cell_type": "code",
   "execution_count": 53,
   "metadata": {},
   "outputs": [
    {
     "name": "stdout",
     "output_type": "stream",
     "text": [
      "(42,) (42,)\n"
     ]
    },
    {
     "data": {
      "image/png": "[encoded data removed]",
      "text/plain": [
       "<matplotlib.figure.Figure at 0x120820cf8>"
      ]
     },
     "metadata": {},
     "output_type": "display_data"
    }
   ],
   "source": [
    "x, y = data.T[0], data.T[1]\n",
    "print (x.shape,y.shape)\n",
    "plt.figure(figsize=(15,5))\n",
    "plt.plot(x, y, 'bo', label='Real data')\n",
    "plt.legend()\n",
    "plt.xlabel('fires per 1000 housing units')\n",
    "plt.ylabel('thefts per 1000 population')\n",
    "plt.show()"
   ]
  },
  {
   "cell_type": "markdown",
   "metadata": {},
   "source": [
    "# create input X (number of fire) and label Y (number of theft)"
   ]
  },
  {
   "cell_type": "code",
   "execution_count": 46,
   "metadata": {},
   "outputs": [],
   "source": [
    "X = tf.placeholder(tf.float32, name=\"X\")\n",
    "Y = tf.placeholder(tf.float32, name=\"Y\")"
   ]
  },
  {
   "cell_type": "markdown",
   "metadata": {},
   "source": [
    "# Think about linear relation: Theft_predict = w * Fire + bias"
   ]
  },
  {
   "cell_type": "code",
   "execution_count": 47,
   "metadata": {},
   "outputs": [],
   "source": [
    "w = tf.Variable(0.0, name=\"weights\")\n",
    "b = tf.Variable(0.0, name=\"bias\")\n",
    "Y_predicted = X * w + b"
   ]
  },
  {
   "cell_type": "markdown",
   "metadata": {},
   "source": [
    "# Define the critical loss function!!"
   ]
  },
  {
   "cell_type": "code",
   "execution_count": 48,
   "metadata": {},
   "outputs": [],
   "source": [
    "# absolute error\n",
    "# loss = tf.abs(Y - Y_predicted, name=\"loss\")\n",
    "# squared error\n",
    "loss = tf.square(Y - Y_predicted, name=\"loss\")"
   ]
  },
  {
   "cell_type": "markdown",
   "metadata": {},
   "source": [
    "# Optimize? Start with gradient descent"
   ]
  },
  {
   "cell_type": "code",
   "execution_count": 49,
   "metadata": {},
   "outputs": [],
   "source": [
    "# Try play with different learning rate\n",
    "optimizer = tf.train.GradientDescentOptimizer(\n",
    "    learning_rate=0.0001).minimize(loss)"
   ]
  },
  {
   "cell_type": "markdown",
   "metadata": {},
   "source": [
    "# Now let's train it!"
   ]
  },
  {
   "cell_type": "code",
   "execution_count": 52,
   "metadata": {},
   "outputs": [
    {
     "name": "stdout",
     "output_type": "stream",
     "text": [
      "Epoch 20: 514.658701695147\n",
      "Epoch 40: 504.50930420983406\n",
      "Epoch 60: 495.5496041961901\n",
      "Epoch 80: 487.64112064810024\n",
      "Epoch 100: 480.6615467593074\n",
      "Epoch 120: 474.50262902818974\n",
      "Epoch 140: 469.0687214760553\n",
      "Epoch 160: 464.2753134880747\n",
      "Epoch 180: 460.0476824800883\n",
      "Epoch 200: 456.31975202235793\n",
      "Epoch 220: 453.0331176491011\n",
      "Epoch 240: 450.13627911829167\n",
      "Epoch 260: 447.58341902498864\n",
      "Epoch 280: 445.3344934163172\n",
      "Epoch 300: 443.35363257676363\n",
      "Epoch 320: 441.6095315140757\n",
      "Epoch 340: 440.07426081899376\n",
      "Epoch 360: 438.7233776929123\n",
      "Epoch 380: 437.5351394187296\n",
      "Epoch 400: 436.4903442621248\n",
      "Epoch 420: 435.5721469965009\n",
      "Epoch 440: 434.7653860210336\n",
      "Epoch 460: 434.0570709460548\n",
      "Epoch 480: 433.43536324266876\n",
      "Epoch 500: 432.8900374582126\n",
      "Epoch 520: 432.4120455238236\n",
      "Epoch 540: 431.9933244086625\n",
      "Epoch 560: 431.6267284388166\n",
      "Epoch 580: 431.3060586431197\n",
      "Epoch 600: 431.02585315668864\n",
      "Epoch 620: 430.78114311680906\n",
      "Epoch 640: 430.56765126614346\n",
      "Epoch 660: 430.3816897017615\n",
      "Epoch 680: 430.21979357373147\n",
      "Epoch 700: 430.0790988831293\n",
      "Epoch 720: 429.957011282444\n",
      "Epoch 740: 429.8511720072655\n",
      "Epoch 760: 429.7596866403307\n",
      "Epoch 780: 429.68063140766964\n",
      "Epoch 800: 429.6126359587624\n",
      "Epoch 820: 429.554124094191\n",
      "Epoch 840: 429.5040482509704\n",
      "Epoch 860: 429.4613044432231\n",
      "Epoch 880: 429.4248445317859\n",
      "Epoch 900: 429.3939736570631\n",
      "Epoch 920: 429.36794349693116\n",
      "Epoch 940: 429.3461508637383\n",
      "Epoch 960: 429.32794211024327\n",
      "Epoch 980: 429.31291450205305\n",
      "Training completed.\n",
      "After Training:\n",
      "theft_predict = 1.29979 * fire + 15.8439\n"
     ]
    }
   ],
   "source": [
    "\n",
    "\n",
    "with tf.Session() as sess:\n",
    "    sess.run(tf.global_variables_initializer())\n",
    "    writer = tf.summary.FileWriter(\n",
    "        './linear_regression_001', sess.graph)\n",
    "    for i in range(1000): # try different number of epochs\n",
    "        total_loss = 0\n",
    "        for x, y in data:\n",
    "            # Session runs train_op to minimize loss\n",
    "            _, current_loss = sess.run(\n",
    "                [optimizer, loss], feed_dict={X: x, Y:y})\n",
    "            total_loss += current_loss\n",
    "        if (i > 0 and i % 20 == 0):\n",
    "            print(('Epoch {0}: {1}'.format(i, total_loss / n_samples)))\n",
    "    print('Training completed.')\n",
    "    w_value, b_value = sess.run([w, b])\n",
    "    print('After Training:\\ntheft_predict = %s * fire + %s' % (w_value, b_value))\n",
    "    writer.close()"
   ]
  },
  {
   "cell_type": "markdown",
   "metadata": {
    "collapsed": true
   },
   "source": [
    "# Visualize the prediction!"
   ]
  },
  {
   "cell_type": "code",
   "execution_count": 10,
   "metadata": {
    "scrolled": true
   },
   "outputs": [
    {
     "data": {
      "image/png": "[encoded data removed]",
      "text/plain": [
       "<matplotlib.figure.Figure at 0x11b8f34d0>"
      ]
     },
     "metadata": {},
     "output_type": "display_data"
    }
   ],
   "source": [
    "x, y = data.T[0], data.T[1]\n",
    "plt.figure(figsize=(15,5))\n",
    "plt.plot(x, y, 'bo', label='Real data')\n",
    "plt.plot(x, x * w_value + b_value, 'r', label='Predicted data')\n",
    "plt.xlabel('fires per 1000 housing units')\n",
    "plt.ylabel('thefts per 1000 population')\n",
    "plt.legend()\n",
    "plt.show()"
   ]
  }
 ],
 "metadata": {
  "kernelspec": {
   "display_name": "Python 3",
   "language": "python",
   "name": "python3"
  },
  "language_info": {
   "codemirror_mode": {
    "name": "ipython",
    "version": 3
   },
   "file_extension": ".py",
   "mimetype": "text/x-python",
   "name": "python",
   "nbconvert_exporter": "python",
   "pygments_lexer": "ipython3",
   "version": "3.6.4"
  }
 },
 "nbformat": 4,
 "nbformat_minor": 2
}
