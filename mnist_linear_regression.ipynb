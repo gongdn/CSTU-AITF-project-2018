{
 "cells": [
  {
   "cell_type": "markdown",
   "metadata": {
    "deletable": true,
    "editable": true
   },
   "source": [
    "# AI Tensorflow Lab #2\n",
    "This lab implements a linear logistic regression classifier for hand-written digits using tensorflow"
   ]
  },
  {
   "cell_type": "code",
   "execution_count": 3,
   "metadata": {
    "collapsed": true,
    "deletable": true,
    "editable": true
   },
   "outputs": [],
   "source": [
    "import pickle\n",
    "import cv2\n",
    "import numpy as np\n",
    "import matplotlib.pyplot as plt\n",
    "import pandas as pd\n",
    "from sklearn.utils import shuffle\n",
    "import tensorflow as tf"
   ]
  },
  {
   "cell_type": "code",
   "execution_count": 4,
   "metadata": {
    "collapsed": false,
    "deletable": true,
    "editable": true
   },
   "outputs": [
    {
     "name": "stdout",
     "output_type": "stream",
     "text": [
      "Extracting mnist_data/train-images-idx3-ubyte.gz\n",
      "Extracting mnist_data/train-labels-idx1-ubyte.gz\n",
      "Extracting mnist_data/t10k-images-idx3-ubyte.gz\n",
      "Extracting mnist_data/t10k-labels-idx1-ubyte.gz\n",
      "(10000, 784)\n",
      "(10000, 10)\n"
     ]
    }
   ],
   "source": [
    "from tensorflow.examples.tutorials.mnist import input_data\n",
    "from quiz import get_weights, get_biases, linear\n",
    "from helper import plot_image_function, show_images_with_label\n",
    "\n",
    "def mnist_features_labels(n_labels):\n",
    "    \"\"\"\n",
    "    Gets the first <n> labels from the MNIST dataset\n",
    "    :param n_labels: Number of labels to use\n",
    "    :return: Tuple of feature list and label list\n",
    "    \"\"\"\n",
    "    mnist_features = []\n",
    "    mnist_labels = []\n",
    "\n",
    "    mnist = input_data.read_data_sets('mnist_data', one_hot=True)\n",
    "\n",
    "    # In order to make the lab run faster, we're only looking at 10000 images\n",
    "    for mnist_feature, mnist_label in zip(*mnist.train.next_batch(10000)):\n",
    "        # Add features and labels if it's for the first <n>th labels\n",
    "        if mnist_label[:n_labels].any():\n",
    "            mnist_features.append(mnist_feature)\n",
    "            mnist_labels.append(mnist_label[:n_labels])\n",
    "\n",
    "    return mnist_features, mnist_labels\n",
    "\n",
    "\n",
    "f,l=mnist_features_labels(10)\n",
    "print (np.shape(f))\n",
    "print (np.shape(l))\n",
    "\n"
   ]
  },
  {
   "cell_type": "code",
   "execution_count": 5,
   "metadata": {
    "collapsed": false,
    "deletable": true,
    "editable": true
   },
   "outputs": [
    {
     "name": "stdout",
     "output_type": "stream",
     "text": [
      "(10000, 28, 28)\n",
      "(10000,)\n"
     ]
    },
    {
     "data": {
      "image/png": "[encoded data removed]",
      "text/plain": [
       "<Figure size 288x72 with 4 Axes>"
      ]
     },
     "metadata": {},
     "output_type": "display_data"
    },
    {
     "data": {
      "image/png": "[encoded data removed]",
      "text/plain": [
       "<Figure size 288x72 with 4 Axes>"
      ]
     },
     "metadata": {},
     "output_type": "display_data"
    }
   ],
   "source": [
    "\n",
    "num=10000\n",
    "\n",
    "f1=np.reshape(f[0:num],(num,28,28))\n",
    "l1=np.argmax(l[0:num],axis=1)\n",
    "print (np.shape(f1))\n",
    "print (np.shape(l1))\n",
    "\n",
    "#select 4 image randomly\n",
    "plot_image_function(f1, l1, 4, 1, False)\n",
    "#select 4 digit \"9\" randomly\n",
    "show_images_with_label(f1,l1, 9 , 4, False)"
   ]
  },
  {
   "cell_type": "code",
   "execution_count": 6,
   "metadata": {
    "collapsed": false,
    "deletable": true,
    "editable": true
   },
   "outputs": [
    {
     "name": "stdout",
     "output_type": "stream",
     "text": [
      "Extracting mnist_data/train-images-idx3-ubyte.gz\n",
      "Extracting mnist_data/train-labels-idx1-ubyte.gz\n",
      "Extracting mnist_data/t10k-images-idx3-ubyte.gz\n",
      "Extracting mnist_data/t10k-labels-idx1-ubyte.gz\n",
      "Loss: 10.518078804016113\n",
      "accuracy:0.09759999811649323\n"
     ]
    }
   ],
   "source": [
    "\n",
    "# Number of features (28*28 image is 784 features)\n",
    "n_features = 784\n",
    "# Number of labels\n",
    "n_labels = 10\n",
    "\n",
    "# Features and Labels\n",
    "features = tf.placeholder(tf.float32)\n",
    "labels = tf.placeholder(tf.float32)\n",
    "\n",
    "\n",
    "# Weights and Biases\n",
    "w = get_weights(n_features, n_labels)\n",
    "b = get_biases(n_labels)\n",
    "\n",
    "# Linear Function xW + b\n",
    "logits = linear(features, w, b)\n",
    "\n",
    "# Training data features (784) and labels (one hot vector)\n",
    "train_features, train_labels = mnist_features_labels(n_labels)\n",
    "#print (pd.DataFrame(train_labels))\n",
    "with tf.Session() as session:\n",
    "    session.run(tf.global_variables_initializer())\n",
    "\n",
    "    # Softmax\n",
    "    prediction = tf.nn.softmax(logits)\n",
    "\n",
    "    # Calculate accuracy\n",
    "    correct_prediction = tf.equal(tf.argmax(logits, 1), tf.argmax(labels, 1))\n",
    "    accuracy = tf.reduce_mean(tf.cast(correct_prediction, tf.float32))\n",
    "\n",
    "    pred = tf.argmax(prediction, axis=1)\n",
    "    lab = tf.argmax(labels, axis=1)\n",
    "    \n",
    "    # Cross entropy\n",
    "    cross_entropy = -tf.reduce_sum(labels * tf.log(prediction), reduction_indices=1)\n",
    "\n",
    "    # Training loss\n",
    "    loss = tf.reduce_mean(cross_entropy)\n",
    "\n",
    "\n",
    "\n",
    "    # Rate at which the weights are changed\n",
    "    learning_rate = 0.03\n",
    "\n",
    "    # Gradient Descent\n",
    "    # This is the method used to train the model\n",
    "    # You'll learn more about this in future lessons.\n",
    "    optimizer = tf.train.GradientDescentOptimizer(learning_rate).minimize(loss)\n",
    "\n",
    "    # Run optimizer and get loss\n",
    "    _, l, acc = session.run(\n",
    "        [optimizer, loss, accuracy],\n",
    "        feed_dict={features: train_features, labels: train_labels})\n",
    "\n",
    "\n",
    "# Print loss\n",
    "print('Loss: {}'.format(l))\n",
    "print('accuracy:{}'.format(acc))\n"
   ]
  },
  {
   "cell_type": "markdown",
   "metadata": {
    "deletable": true,
    "editable": true
   },
   "source": [
    "# Improve the accuracy for linear regression classfication\n",
    "Use mini-batches techniques to greatly improve the accuracy and reduce the cost"
   ]
  },
  {
   "cell_type": "code",
   "execution_count": 8,
   "metadata": {
    "collapsed": true,
    "deletable": true,
    "editable": true
   },
   "outputs": [],
   "source": [
    "\n",
    "def print_epoch_stats(epoch_i, sess, cross_entropy, accuracy, last_features, last_labels, valid_features, valid_labels):\n",
    "    \"\"\"\n",
    "    Print cost and validation accuracy of an epoch\n",
    "    \"\"\"\n",
    "    current_cost = sess.run(\n",
    "        cross_entropy,\n",
    "        feed_dict={x: last_features, y_: last_labels})\n",
    "    train_accuracy = sess.run(\n",
    "        accuracy,\n",
    "        feed_dict={x: last_features, y_: last_labels})\n",
    "\n",
    "    valid_accuracy = sess.run(\n",
    "        accuracy,\n",
    "        feed_dict={x: valid_features, y_: valid_labels})\n",
    "    print('Epoch: {:<4} - Cost: {:<8.3} Train Accuracy: {:<5.3} Valid Accuracy: {:<5.3}'.format(\n",
    "        epoch_i,\n",
    "        current_cost,\n",
    "        train_accuracy,\n",
    "        valid_accuracy))\n",
    "        "
   ]
  },
  {
   "cell_type": "code",
   "execution_count": 29,
   "metadata": {
    "collapsed": false,
    "deletable": true,
    "editable": true
   },
   "outputs": [
    {
     "name": "stdout",
     "output_type": "stream",
     "text": [
      "Extracting MNIST_data/train-images-idx3-ubyte.gz\n",
      "Extracting MNIST_data/train-labels-idx1-ubyte.gz\n",
      "Extracting MNIST_data/t10k-images-idx3-ubyte.gz\n",
      "Extracting MNIST_data/t10k-labels-idx1-ubyte.gz\n",
      "train example: 55000\n",
      "valid example: 5000\n",
      "test example: 10000\n",
      "Epoch: 0    - Cost: 0.783    Train Accuracy: 0.84  Valid Accuracy: 0.847\n",
      "Epoch: 1    - Cost: 0.605    Train Accuracy: 0.865 Valid Accuracy: 0.875\n",
      "Epoch: 2    - Cost: 0.526    Train Accuracy: 0.876 Valid Accuracy: 0.881\n",
      "Epoch: 3    - Cost: 0.471    Train Accuracy: 0.888 Valid Accuracy: 0.891\n",
      "Epoch: 4    - Cost: 0.437    Train Accuracy: 0.892 Valid Accuracy: 0.894\n",
      "Epoch: 5    - Cost: 0.413    Train Accuracy: 0.897 Valid Accuracy: 0.9  \n",
      "Epoch: 6    - Cost: 0.391    Train Accuracy: 0.902 Valid Accuracy: 0.902\n",
      "Epoch: 7    - Cost: 0.391    Train Accuracy: 0.898 Valid Accuracy: 0.9  \n",
      "Epoch: 8    - Cost: 0.363    Train Accuracy: 0.905 Valid Accuracy: 0.903\n",
      "Epoch: 9    - Cost: 0.352    Train Accuracy: 0.908 Valid Accuracy: 0.906\n",
      "Accuracy:  0.9025\n",
      "done\n"
     ]
    }
   ],
   "source": [
    "import tensorflow as tf\n",
    "\n",
    "# reset everything to rerun in jupyter\n",
    "tf.reset_default_graph()\n",
    "\n",
    "# config\n",
    "batch_size = 128\n",
    "learning_rate = 0.5\n",
    "training_epochs = 10\n",
    "logs_path = \"/tmp/mnist/2\"\n",
    "\n",
    "# load mnist data set\n",
    "from tensorflow.examples.tutorials.mnist import input_data\n",
    "mnist = input_data.read_data_sets('MNIST_data', one_hot=True)\n",
    "\n",
    "# The features are already scaled and the data is shuffled\n",
    "train_features = mnist.train.images\n",
    "valid_features = mnist.validation.images\n",
    "test_features = mnist.test.images\n",
    "\n",
    "train_labels = mnist.train.labels.astype(np.float32)\n",
    "valid_labels = mnist.validation.labels.astype(np.float32)\n",
    "test_labels = mnist.test.labels.astype(np.float32)\n",
    "\n",
    "print (\"train example:\", mnist.train.num_examples)\n",
    "print (\"valid example:\", mnist.validation.num_examples)\n",
    "print (\"test example:\", mnist.test.num_examples)\n",
    "\n",
    "\n",
    "# input images\n",
    "with tf.name_scope('input'):\n",
    "    # None -> batch size can be any size, 784 -> flattened mnist image\n",
    "    x = tf.placeholder(tf.float32, shape=[None, 784], name=\"x-input\") \n",
    "    # target 10 output classes\n",
    "    y_ = tf.placeholder(tf.float32, shape=[None, 10], name=\"y-input\")\n",
    "\n",
    "# model parameters will change during training so we use tf.Variable\n",
    "with tf.name_scope(\"weights\"):\n",
    "    #W = tf.Variable(tf.zeros([784, 10]))\n",
    "    W = tf.Variable(tf.random_normal([784, 10]))\n",
    "\n",
    "# bias\n",
    "with tf.name_scope(\"biases\"):\n",
    "    #b = tf.Variable(tf.zeros([10]))\n",
    "    b = tf.Variable(tf.random_normal([10]))\n",
    "\n",
    "    \n",
    "# logits\n",
    "with tf.name_scope(\"logit\"):\n",
    "    logit = tf.matmul(x,W) + b\n",
    "\n",
    "# implement model\n",
    "with tf.name_scope(\"softmax\"):\n",
    "    # y is our prediction\n",
    "    y = tf.nn.softmax(logit)\n",
    "\n",
    "# specify cost function\n",
    "with tf.name_scope('cross_entropy'):\n",
    "    # this is our cost\n",
    "    cross_entropy = tf.reduce_mean(-tf.reduce_sum(y_ * tf.log(y), reduction_indices=[1]))\n",
    "\n",
    "# specify optimizer\n",
    "with tf.name_scope('train'):\n",
    "    # optimizer is an \"operation\" which we can execute in a session\n",
    "    train_op = tf.train.GradientDescentOptimizer(learning_rate).minimize(cross_entropy)\n",
    "\n",
    "with tf.name_scope('Accuracy'):\n",
    "    # Accuracy\n",
    "    correct_prediction = tf.equal(tf.argmax(y,1), tf.argmax(y_,1))\n",
    "    accuracy = tf.reduce_mean(tf.cast(correct_prediction, tf.float32))\n",
    "    prediction = tf.argmax(y,1)\n",
    "    groundtruth = tf.argmax(y_,1)\n",
    "    \n",
    "init = tf.global_variables_initializer()\n",
    "\n",
    "use_tf_batch=True\n",
    "\n",
    "with tf.Session() as sess:\n",
    "    # variables need to be initialized before we can use them\n",
    "    sess.run(init)\n",
    "        \n",
    "    # perform training cycles\n",
    "    for epoch in range(training_epochs):\n",
    "        if use_tf_batch==False:\n",
    "            train_features, train_labels = shuffle(train_features, train_labels)\n",
    "            train_batches = gen_batches(batch_size, train_features, train_labels)\n",
    "        # number of batches in one epoch\n",
    "        batch_count = int(mnist.train.num_examples/batch_size)\n",
    "        \n",
    "        for i in range(batch_count):\n",
    "        # method 1: use gen_batches\n",
    "            if use_tf_batch==False:\n",
    "                batch_x, batch_y = train_batches[i]\n",
    "        # method 2: use tensorflow functions\n",
    "            else:\n",
    "                batch_x, batch_y = mnist.train.next_batch(batch_size)\n",
    "\n",
    "            # perform the operations we defined earlier on batch\n",
    "            _ = sess.run([train_op], feed_dict={x: batch_x, y_: batch_y})\n",
    "        print_epoch_stats(epoch, sess, cross_entropy, accuracy, train_features, train_labels, valid_features, valid_labels)    \n",
    "    print (\"Accuracy: \", accuracy.eval(feed_dict={x: mnist.test.images, y_: mnist.test.labels}))\n",
    "    print (\"done\")"
   ]
  },
  {
   "cell_type": "markdown",
   "metadata": {
    "deletable": true,
    "editable": true
   },
   "source": [
    "### Quiz: [Optional] Write a function to implement the mini-batch "
   ]
  },
  {
   "cell_type": "markdown",
   "metadata": {
    "deletable": true,
    "editable": true
   },
   "source": [
    "### Add Tensorboard to visualize the training process\n",
    "Learn to use name scope to organize the variables in the tensor graph; use tensor summery operation to record scalar, histogram and image data.\n",
    "\n",
    "Use Saver function to save model and restore it later.\n"
   ]
  },
  {
   "cell_type": "code",
   "execution_count": 31,
   "metadata": {
    "collapsed": false,
    "deletable": true,
    "editable": true
   },
   "outputs": [
    {
     "name": "stdout",
     "output_type": "stream",
     "text": [
      "Extracting MNIST_data/train-images-idx3-ubyte.gz\n",
      "Extracting MNIST_data/train-labels-idx1-ubyte.gz\n",
      "Extracting MNIST_data/t10k-images-idx3-ubyte.gz\n",
      "Extracting MNIST_data/t10k-labels-idx1-ubyte.gz\n",
      "train example: 55000\n",
      "valid example: 5000\n",
      "test example: 10000\n",
      "Epoch: 0    - Cost: 0.72     Train Accuracy: 0.846 Valid Accuracy: 0.856\n",
      "Epoch: 1    - Cost: 0.574    Train Accuracy: 0.871 Valid Accuracy: 0.876\n",
      "Epoch: 2    - Cost: 0.499    Train Accuracy: 0.884 Valid Accuracy: 0.893\n",
      "Epoch: 3    - Cost: 0.459    Train Accuracy: 0.891 Valid Accuracy: 0.897\n",
      "Epoch: 4    - Cost: 0.429    Train Accuracy: 0.894 Valid Accuracy: 0.899\n",
      "Epoch: 5    - Cost: 0.407    Train Accuracy: 0.899 Valid Accuracy: 0.901\n",
      "Epoch: 6    - Cost: 0.395    Train Accuracy: 0.901 Valid Accuracy: 0.906\n",
      "Epoch: 7    - Cost: 0.376    Train Accuracy: 0.905 Valid Accuracy: 0.907\n",
      "Epoch: 8    - Cost: 0.361    Train Accuracy: 0.908 Valid Accuracy: 0.91 \n",
      "Epoch: 9    - Cost: 0.359    Train Accuracy: 0.907 Valid Accuracy: 0.907\n",
      "Epoch: 10   - Cost: 0.342    Train Accuracy: 0.911 Valid Accuracy: 0.91 \n",
      "Epoch: 11   - Cost: 0.339    Train Accuracy: 0.912 Valid Accuracy: 0.911\n",
      "Epoch: 12   - Cost: 0.346    Train Accuracy: 0.907 Valid Accuracy: 0.907\n",
      "Epoch: 13   - Cost: 0.323    Train Accuracy: 0.915 Valid Accuracy: 0.914\n",
      "Epoch: 14   - Cost: 0.321    Train Accuracy: 0.914 Valid Accuracy: 0.911\n",
      "Epoch: 15   - Cost: 0.311    Train Accuracy: 0.917 Valid Accuracy: 0.915\n",
      "Epoch: 16   - Cost: 0.31     Train Accuracy: 0.917 Valid Accuracy: 0.913\n",
      "Epoch: 17   - Cost: 0.306    Train Accuracy: 0.918 Valid Accuracy: 0.917\n",
      "Epoch: 18   - Cost: 0.3      Train Accuracy: 0.919 Valid Accuracy: 0.918\n",
      "Epoch: 19   - Cost: 0.3      Train Accuracy: 0.918 Valid Accuracy: 0.918\n",
      "Test Accuracy:  0.9132\n",
      "Train Accuracy:  0.91827273\n",
      "Valid Accuracy:  0.918\n",
      "Model saved in path: /tmp/model.ckpt\n",
      "done\n"
     ]
    }
   ],
   "source": [
    "import tensorflow as tf\n",
    "from quiz import * \n",
    "# reset everything to rerun in jupyter\n",
    "tf.reset_default_graph()\n",
    "\n",
    "# config\n",
    "batch_size = 128\n",
    "learning_rate = 0.5\n",
    "training_epochs = 20\n",
    "logs_path = \"/tmp/mnist/2\"\n",
    "\n",
    "# load mnist data set\n",
    "from tensorflow.examples.tutorials.mnist import input_data\n",
    "mnist = input_data.read_data_sets('MNIST_data', one_hot=True)\n",
    "\n",
    "# The features are already scaled and the data is shuffled\n",
    "train_features = mnist.train.images\n",
    "valid_features = mnist.validation.images\n",
    "test_features = mnist.test.images\n",
    "\n",
    "train_labels = mnist.train.labels.astype(np.float32)\n",
    "valid_labels = mnist.validation.labels.astype(np.float32)\n",
    "test_labels = mnist.test.labels.astype(np.float32)\n",
    "\n",
    "\n",
    "# input images\n",
    "with tf.name_scope('input'):\n",
    "    # None -> batch size can be any size, 784 -> flattened mnist image\n",
    "    x = tf.placeholder(tf.float32, shape=[None, 784], name=\"x-input\") \n",
    "    # target 10 output classes\n",
    "    y_ = tf.placeholder(tf.float32, shape=[None, 10], name=\"y-input\")\n",
    "\n",
    "# model parameters will change during training so we use tf.Variable\n",
    "with tf.name_scope(\"weights\"):\n",
    "    #W = tf.Variable(tf.zeros([784, 10]))\n",
    "    W = tf.Variable(tf.random_normal([784, 10]))\n",
    "\n",
    "\n",
    "# bias\n",
    "with tf.name_scope(\"biases\"):\n",
    "    #b = tf.Variable(tf.zeros([10]))\n",
    "    b = tf.Variable(tf.random_normal([10]))\n",
    "\n",
    "    \n",
    "# logits\n",
    "with tf.name_scope(\"logit\"):\n",
    "    logit = tf.matmul(x,W) + b\n",
    "\n",
    "# implement model\n",
    "with tf.name_scope(\"softmax\"):\n",
    "    # y is our prediction\n",
    "    y = tf.nn.softmax(logit)\n",
    "\n",
    "\n",
    "# specify cost function\n",
    "with tf.name_scope('cross_entropy'):\n",
    "    # this is our cost\n",
    "    cross_entropy = tf.reduce_mean(-tf.reduce_sum(y_ * tf.log(y), reduction_indices=[1]))\n",
    "\n",
    "# specify optimizer\n",
    "with tf.name_scope('train'):\n",
    "    # optimizer is an \"operation\" which we can execute in a session\n",
    "    train_op = tf.train.GradientDescentOptimizer(learning_rate).minimize(cross_entropy)\n",
    "\n",
    "with tf.name_scope('Accuracy'):\n",
    "    # Accuracy\n",
    "    correct_prediction = tf.equal(tf.argmax(y,1), tf.argmax(y_,1))\n",
    "    accuracy = tf.reduce_mean(tf.cast(correct_prediction, tf.float32))\n",
    "    prediction = tf.argmax(y,1)\n",
    "    groundtruth = tf.argmax(y_,1)\n",
    "\n",
    "    \n",
    "# create a summary for our cost and accuracy\n",
    "tf.summary.scalar(\"cost\", cross_entropy)\n",
    "tf.summary.scalar(\"accuracy\", accuracy)\n",
    "tf.summary.histogram(\"weights\", W)\n",
    "tf.summary.image('image',np.reshape(train_features,[55000,28,28,1]), max_outputs=10)\n",
    "print (\"train example:\", mnist.train.num_examples)\n",
    "print (\"valid example:\", mnist.validation.num_examples)\n",
    "print (\"test example:\", mnist.test.num_examples)\n",
    "\n",
    "# merge all summaries into a single \"operation\" which we can execute in a session \n",
    "summary_op = tf.summary.merge_all()\n",
    "init = tf.global_variables_initializer()\n",
    "\n",
    "# Two methods to generate the batches\n",
    "# method 1: use helper functions gen_batches\n",
    "# method 2: use tensor flow library functions\n",
    "\n",
    "\n",
    "use_tf_batch=False\n",
    "saver = tf.train.Saver()\n",
    "with tf.Session() as sess:\n",
    "    # variables need to be initialized before we can use them\n",
    "    sess.run(init)\n",
    "\n",
    "    # create log writer object\n",
    "    writer = tf.summary.FileWriter(logs_path, sess.graph)\n",
    "\n",
    "        \n",
    "    # perform training cycles\n",
    "    for epoch in range(training_epochs):\n",
    "        if use_tf_batch==False:\n",
    "            train_features, train_labels = shuffle(train_features, train_labels)\n",
    "            train_batches = gen_batches(batch_size, train_features, train_labels)\n",
    "        # number of batches in one epoch\n",
    "        batch_count = int(mnist.train.num_examples/batch_size)\n",
    "        for i in range(batch_count):\n",
    "        # method 1: use gen_batches\n",
    "            if use_tf_batch==False:\n",
    "                batch_x, batch_y = train_batches[i]\n",
    "        # method 2: use tensorflow functions\n",
    "            else:\n",
    "                batch_x, batch_y = mnist.train.next_batch(batch_size)\n",
    "            \n",
    "            # perform the operations we defined earlier on batch\n",
    "            _, summary_1 = sess.run([train_op, summary_op], feed_dict={x: batch_x, y_: batch_y})\n",
    "            # write log\n",
    "        summary = sess.run(summary_op, feed_dict={x: train_features, y_: train_labels})\n",
    "        writer.add_summary(summary, epoch)\n",
    "        print_epoch_stats(epoch, sess, cross_entropy, accuracy, train_features, train_labels, valid_features, valid_labels)    \n",
    "    print (\"Test Accuracy: \", accuracy.eval(feed_dict={x: test_features, y_: test_labels}))\n",
    "    print (\"Train Accuracy: \", accuracy.eval(feed_dict={x: train_features, y_: train_labels}))\n",
    "    print (\"Valid Accuracy: \", accuracy.eval(feed_dict={x: valid_features, y_: valid_labels}))\n",
    "    writer.close()\n",
    "    save_path = saver.save(sess, \"/tmp/model.ckpt\")\n",
    "    print(\"Model saved in path: %s\" % save_path)\n",
    "    print (\"done\")"
   ]
  },
  {
   "cell_type": "code",
   "execution_count": null,
   "metadata": {
    "collapsed": true,
    "deletable": true,
    "editable": true
   },
   "outputs": [],
   "source": []
  },
  {
   "cell_type": "markdown",
   "metadata": {
    "deletable": true,
    "editable": true
   },
   "source": [
    "## Confusion Matrix\n",
    "By definition a confusion matrix C is such that C_{i, j} is equal to the number of observations known to be in group i but predicted to be in group j.\n",
    "\n",
    "We will use skilearn library to generate the confusion matrix to evaluate the accuracy of the classification."
   ]
  },
  {
   "cell_type": "code",
   "execution_count": 26,
   "metadata": {
    "collapsed": false,
    "deletable": true,
    "editable": true
   },
   "outputs": [
    {
     "name": "stdout",
     "output_type": "stream",
     "text": [
      "INFO:tensorflow:Restoring parameters from /tmp/model.ckpt\n",
      "[[ 943    0    1    3    0   20    8    2    2    1]\n",
      " [   0 1102    6    4    1    3    4    3   12    0]\n",
      " [   5   12  906   19    7   13   15   13   37    5]\n",
      " [   3    1   22  894    1   50    3   11   18    7]\n",
      " [   1    2    7    3  909    1   15    8    8   28]\n",
      " [   7    1    4   27    8  798   18    5   18    6]\n",
      " [   8    2    7    2    9   17  909    3    1    0]\n",
      " [   2    8   24   10    9    3    0  946    1   25]\n",
      " [   8   10    9   26    8   62   16   11  810   14]\n",
      " [   9    7    0    8   35   14    0   38    5  893]]\n"
     ]
    }
   ],
   "source": [
    "from sklearn.metrics import confusion_matrix\n",
    "import numpy as np\n",
    "import tensorflow as tf\n",
    "from helper import plot_confusion_matrix\n",
    "with tf.name_scope('ConfMat'):\n",
    "    prediction = tf.argmax(y,1)\n",
    "    groundtruth = tf.argmax(y_,1)\n",
    "feature_size=len(test_features)\n",
    "X_in=test_features\n",
    "y_in=test_labels\n",
    "with tf.Session() as sess:\n",
    "    #sess.run(init)\n",
    "    saver.restore(sess, \"/tmp/model.ckpt\")\n",
    "    [g,p,c]=sess.run([groundtruth,prediction,accuracy],feed_dict={x:X_in,y_:y_in})\n",
    "\n",
    "cm=confusion_matrix(g,p)\n",
    "print (cm)\n"
   ]
  },
  {
   "cell_type": "markdown",
   "metadata": {
    "deletable": true,
    "editable": true
   },
   "source": [
    "### Visualize the Confusion Matrix using plot\n",
    "use plot function to plot confusion matrix. The function is got and modified from scikit-learn.org"
   ]
  },
  {
   "cell_type": "code",
   "execution_count": 27,
   "metadata": {
    "collapsed": false,
    "deletable": true,
    "editable": true
   },
   "outputs": [
    {
     "name": "stdout",
     "output_type": "stream",
     "text": [
      "Normalized confusion matrix\n"
     ]
    },
    {
     "data": {
      "image/png": "[encoded data removed]",
      "text/plain": [
       "<Figure size 432x288 with 2 Axes>"
      ]
     },
     "metadata": {},
     "output_type": "display_data"
    }
   ],
   "source": [
    "\n",
    "plot_confusion_matrix(cm, classes=\"\", normalize=True,\n",
    "                      title='Normalized confusion matrix')\n",
    "\n"
   ]
  },
  {
   "cell_type": "markdown",
   "metadata": {
    "deletable": true,
    "editable": true
   },
   "source": [
    "## Quiz: Write a function to implement confunsion matrix"
   ]
  },
  {
   "cell_type": "code",
   "execution_count": 23,
   "metadata": {
    "collapsed": false,
    "deletable": true,
    "editable": true
   },
   "outputs": [
    {
     "name": "stdout",
     "output_type": "stream",
     "text": [
      "[[ 952    0    1    3    0   15    6    2    1    0]\n",
      " [   0 1116    2    2    0    4    4    1    6    0]\n",
      " [  14   27  880   24    3   12   16   14   34    8]\n",
      " [   7    1   20  868    0   71    4   14   14   11]\n",
      " [   0    4    6    2  882    8   15    7    8   50]\n",
      " [   8    4    4   21    9  802   12    4   22    6]\n",
      " [  19    5    9    0   10   31  880    1    3    0]\n",
      " [   3   13   18    7    9    2    0  935    3   38]\n",
      " [   7   21    7   33    9   88   15    7  770   17]\n",
      " [   9    8    1   11   35   17    2   21    7  898]]\n"
     ]
    }
   ],
   "source": [
    "confusion_matrix_np = np.array([[len([k for k in range(feature_size) if p[k]==j and g[k]==i]) for j in range(10) ] for i in range(10)])\n",
    "print (confusion_matrix_np)"
   ]
  },
  {
   "cell_type": "code",
   "execution_count": null,
   "metadata": {
    "collapsed": true,
    "deletable": true,
    "editable": true
   },
   "outputs": [],
   "source": []
  }
 ],
 "metadata": {
  "kernelspec": {
   "display_name": "Python 3",
   "language": "python",
   "name": "python3"
  },
  "language_info": {
   "codemirror_mode": {
    "name": "ipython",
    "version": 3
   },
   "file_extension": ".py",
   "mimetype": "text/x-python",
   "name": "python",
   "nbconvert_exporter": "python",
   "pygments_lexer": "ipython3",
   "version": "3.5.2"
  },
  "widgets": {
   "state": {},
   "version": "1.1.2"
  }
 },
 "nbformat": 4,
 "nbformat_minor": 2
}
