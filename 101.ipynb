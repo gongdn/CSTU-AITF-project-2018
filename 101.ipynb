{
 "cells": [
  {
   "cell_type": "markdown",
   "metadata": {},
   "source": [
    "# Import TensorFlow library"
   ]
  },
  {
   "cell_type": "code",
   "execution_count": 1,
   "metadata": {
    "slideshow": {
     "slide_type": "-"
    }
   },
   "outputs": [],
   "source": [
    "import tensorflow as tf"
   ]
  },
  {
   "cell_type": "markdown",
   "metadata": {},
   "source": [
    "# TF constant and session"
   ]
  },
  {
   "cell_type": "code",
   "execution_count": 4,
   "metadata": {},
   "outputs": [
    {
     "name": "stdout",
     "output_type": "stream",
     "text": [
      "Tensor(\"Add:0\", shape=(), dtype=float32)\n",
      "11.1\n"
     ]
    }
   ],
   "source": [
    "x = tf.constant(3.0)\n",
    "y = tf.constant(8.1)\n",
    "# print tf.add(x, y)\n",
    "with tf.Session() as session:\n",
    "    print((tf.add(x, y))) # equal to x+y\n",
    "    print((session.run(tf.add(x, y))))"
   ]
  },
  {
   "cell_type": "markdown",
   "metadata": {},
   "source": [
    "# TF Graph and Tensorboard"
   ]
  },
  {
   "cell_type": "code",
   "execution_count": 8,
   "metadata": {},
   "outputs": [
    {
     "name": "stdout",
     "output_type": "stream",
     "text": [
      "11\n"
     ]
    }
   ],
   "source": [
    "x = tf.constant(3, name=\"x\")\n",
    "y = tf.constant(8, name=\"y\")\n",
    "with tf.Session() as session:\n",
    "    # graph persistence has to be before session execution\n",
    "    writer = tf.summary.FileWriter(\n",
    "        './tests_002', session.graph)\n",
    "    print((session.run(tf.add(x, y))))\n",
    "# Close the graph writer\n",
    "writer.close()"
   ]
  },
  {
   "cell_type": "code",
   "execution_count": 9,
   "metadata": {},
   "outputs": [],
   "source": [
    "# Run command:\n",
    "# $ tensorboard --logdir=\"/Users/szhu/mytensorflow/graphs/tests_002\" --port 7007"
   ]
  },
  {
   "cell_type": "code",
   "execution_count": 11,
   "metadata": {},
   "outputs": [
    {
     "name": "stdout",
     "output_type": "stream",
     "text": [
      "11\n"
     ]
    }
   ],
   "source": [
    "x = tf.constant(3, name='x')\n",
    "y = tf.constant(8, name='y')\n",
    "add_op = tf.add(x, y, name='add_op')\n",
    "with tf.Session() as session:\n",
    "    writer = tf.summary.FileWriter(\n",
    "        './tests_002', session.graph)\n",
    "    print((session.run(add_op)))\n",
    "# Close the graph writer\n",
    "writer.close()"
   ]
  },
  {
   "cell_type": "markdown",
   "metadata": {},
   "source": [
    "# TF variable"
   ]
  },
  {
   "cell_type": "code",
   "execution_count": 13,
   "metadata": {},
   "outputs": [
    {
     "name": "stdout",
     "output_type": "stream",
     "text": [
      "5\n"
     ]
    }
   ],
   "source": [
    "x = tf.Variable(2)\n",
    "y = tf.Variable(3)\n",
    "with tf.Session() as session:\n",
    "    session.run(tf.global_variables_initializer())\n",
    "    print((session.run(tf.add(x, y))))"
   ]
  },
  {
   "cell_type": "markdown",
   "metadata": {},
   "source": [
    "# Placeholder"
   ]
  },
  {
   "cell_type": "code",
   "execution_count": 15,
   "metadata": {},
   "outputs": [
    {
     "name": "stdout",
     "output_type": "stream",
     "text": [
      "[ 6.  7.  8.]\n"
     ]
    }
   ],
   "source": [
    "a = tf.placeholder(tf.float32, shape=[3], name=\"a\")\n",
    "b = tf.constant([5, 5, 5], tf.float32, name=\"b\")\n",
    "c = a + b # Short for tf.add(a, b)\n",
    "with tf.Session() as session:\n",
    "    # Error!! because a doesn't have any value\n",
    "    # print session.run(c)\n",
    "    # feed [1, 2, 3] to placeholder a via the dict {a: [1, 2, 3]}\n",
    "    print((session.run(c, {a: [1, 2, 3]})))"
   ]
  },
  {
   "cell_type": "markdown",
   "metadata": {},
   "source": [
    "## Undeterministic shape can be defined"
   ]
  },
  {
   "cell_type": "code",
   "execution_count": 16,
   "metadata": {},
   "outputs": [
    {
     "name": "stdout",
     "output_type": "stream",
     "text": [
      "[[  6.   7.   8.]\n",
      " [  9.  10.  11.]\n",
      " [ 12.  13.  14.]\n",
      " [  8.  10.  12.]]\n"
     ]
    }
   ],
   "source": [
    "a = tf.placeholder(tf.float32, shape=[None, 3], name=\"a\")\n",
    "b = tf.constant([5, 5, 5], tf.float32, name=\"b\")\n",
    "c = a + b # Short for tf.add(a, b)\n",
    "with tf.Session() as session:\n",
    "    print((session.run(c,\n",
    "                      {a: [[1, 2, 3], [4, 5, 6], [7, 8, 9], [3, 5, 7]]})))"
   ]
  },
  {
   "cell_type": "markdown",
   "metadata": {},
   "source": [
    "# eval() vs session.run()"
   ]
  },
  {
   "cell_type": "markdown",
   "metadata": {},
   "source": [
    "## eval() == tf.get_default_session().run(t)"
   ]
  },
  {
   "cell_type": "markdown",
   "metadata": {},
   "source": [
    "# Assignment"
   ]
  },
  {
   "cell_type": "code",
   "execution_count": 24,
   "metadata": {},
   "outputs": [
    {
     "name": "stdout",
     "output_type": "stream",
     "text": [
      "1\n",
      "3\n"
     ]
    }
   ],
   "source": [
    "W = tf.Variable(1)\n",
    "W1 = W.assign(3)\n",
    "with tf.Session() as session:\n",
    "    session.run(W.initializer)\n",
    "    print((W.eval()))\n",
    "    print((W1.eval()))"
   ]
  },
  {
   "cell_type": "code",
   "execution_count": 19,
   "metadata": {},
   "outputs": [
    {
     "name": "stdout",
     "output_type": "stream",
     "text": [
      "2\n"
     ]
    }
   ],
   "source": [
    "W = tf.Variable(1)\n",
    "assign_op = W.assign(2)\n",
    "with tf.Session() as session:\n",
    "    session.run(W.initializer)\n",
    "    session.run(assign_op)\n",
    "    print((W.eval()))"
   ]
  },
  {
   "cell_type": "code",
   "execution_count": 13,
   "metadata": {},
   "outputs": [
    {
     "name": "stdout",
     "output_type": "stream",
     "text": [
      "2\n",
      "4\n",
      "8\n",
      "16\n",
      "32\n",
      "64\n",
      "128\n",
      "256\n",
      "512\n",
      "1024\n"
     ]
    }
   ],
   "source": [
    "W = tf.Variable(1)\n",
    "w_double = W.assign(2 * W)\n",
    "with tf.Session() as sess:\n",
    "    sess.run(W.initializer)\n",
    "    # Initialize all variables?\n",
    "    # sess.run(tf.global_variables_initializer())\n",
    "    for _ in range(10):\n",
    "        print(sess.run(w_double))"
   ]
  },
  {
   "cell_type": "markdown",
   "metadata": {},
   "source": [
    "# Tensorboard"
   ]
  },
  {
   "cell_type": "code",
   "execution_count": 28,
   "metadata": {},
   "outputs": [
    {
     "name": "stdout",
     "output_type": "stream",
     "text": [
      "5\n"
     ]
    }
   ],
   "source": [
    "# restart to get a clean tensorboard\n",
    "import tensorflow as tf\n",
    "a = tf.constant(2, name=\"a_constant\")\n",
    "b = tf.constant(3, name=\"b_constant\")\n",
    "x = tf.add(a, b, name=\"add_operator\")\n",
    "\n",
    "with tf.Session() as session:\n",
    "    # add this line right before 'run' to use TensorBoard.\n",
    "    writer = tf.summary.FileWriter(\n",
    "        './tests_002', session.graph)\n",
    "    print((session.run(x)))\n",
    "\n",
    "# Close the graph writer\n",
    "writer.close()"
   ]
  },
  {
   "cell_type": "markdown",
   "metadata": {},
   "source": [
    "# Interactive Session"
   ]
  },
  {
   "cell_type": "code",
   "execution_count": 30,
   "metadata": {},
   "outputs": [
    {
     "name": "stdout",
     "output_type": "stream",
     "text": [
      "200.0\n"
     ]
    }
   ],
   "source": [
    "# Auto make itself default session\n",
    "session = tf.InteractiveSession()\n",
    "a = tf.constant(10.0, name='a_const')\n",
    "b = tf.constant(20.0, name='b_const')\n",
    "multi_op = tf.multiply(a, b, name='multiply')\n",
    "# No need to specifying the context 'session'\n",
    "writer = tf.summary.FileWriter(\n",
    "    './tests_002', session.graph)\n",
    "print((multi_op.eval()))\n",
    "session.close()"
   ]
  },
  {
   "cell_type": "code",
   "execution_count": null,
   "metadata": {
    "collapsed": true
   },
   "outputs": [],
   "source": [
    "# Run command:\n",
    "# $ tensorboard --logdir=\"/Users/szhu/mytensorflow/graphs/tests_001\" --port 7007"
   ]
  },
  {
   "cell_type": "markdown",
   "metadata": {},
   "source": [
    "# Advanced operators"
   ]
  },
  {
   "cell_type": "code",
   "execution_count": 31,
   "metadata": {},
   "outputs": [
    {
     "name": "stdout",
     "output_type": "stream",
     "text": [
      "x: \n",
      "[[2 3]\n",
      " [4 5]]\n",
      "\n",
      "\n",
      "y: \n",
      "[[0 2]\n",
      " [4 6]]\n",
      "\n",
      "\n",
      "z: \n",
      "[[12 22]\n",
      " [20 38]]\n",
      "\n",
      "\n",
      "z_zeros: \n",
      "[[ 0.  0.  0.  0.]\n",
      " [ 0.  0.  0.  0.]\n",
      " [ 0.  0.  0.  0.]]\n",
      "\n",
      "\n",
      "z_ones: \n",
      "[[ 1.  1.  1.]\n",
      " [ 1.  1.  1.]\n",
      " [ 1.  1.  1.]\n",
      " [ 1.  1.  1.]]\n",
      "\n",
      "\n",
      "x_ones_alike: \n",
      "[[ 1.  1.]\n",
      " [ 1.  1.]]\n",
      "\n",
      "\n",
      "z_fill: \n",
      "[[ 1.23399997  1.23399997  1.23399997]\n",
      " [ 1.23399997  1.23399997  1.23399997]\n",
      " [ 1.23399997  1.23399997  1.23399997]]\n",
      "\n",
      "\n",
      "k: \n",
      "[[ 0.  1.]\n",
      " [-1.  3.]]\n",
      "k inverse: \n",
      "[[ 3. -1.]\n",
      " [ 1.  0.]]\n",
      "\n",
      "\n"
     ]
    }
   ],
   "source": [
    "a = tf.constant([2, 2], name=\"a\")\n",
    "b = tf.constant([[0, 1], [2, 3]], name=\"b\")\n",
    "k = tf.constant([[0, 1], [-1, 3]], dtype=tf.float32, name=\"k\")\n",
    "x = tf.add(a, b, name=\"add\")\n",
    "y = tf.multiply(a, b, name=\"multiply\")\n",
    "with tf.Session() as session:\n",
    "    x, y = session.run([x, y])\n",
    "    print(('x: \\n%s\\n\\n' % x))\n",
    "    print(('y: \\n%s\\n\\n' % y))\n",
    "\n",
    "    z = tf.matmul(x, y, name=\"matmul\")\n",
    "    print(('z: \\n%s\\n\\n' % session.run(z)))\n",
    "\n",
    "    z_zeros = tf.zeros([3, 4], dtype=tf.float32, name=\"float_zeros\") # [3,4] is the shape to draw\n",
    "    print(('z_zeros: \\n%s\\n\\n' % session.run(z_zeros)))\n",
    "\n",
    "    z_ones = tf.ones([4, 3], dtype=tf.float32, name=\"float_ones\")\n",
    "    print('z_ones: \\n%s\\n\\n' % session.run(z_ones))\n",
    "\n",
    "    x_ones_alike = tf.ones_like(x, dtype=tf.float32) # x is the shape to be similar to\n",
    "    print('x_ones_alike: \\n%s\\n\\n' % session.run(x_ones_alike))\n",
    "\n",
    "    z_fill = tf.fill([3, 3], value=1.234, name=\"fill_ns\")\n",
    "    print('z_fill: \\n%s\\n\\n' % session.run(z_fill))\n",
    "    \n",
    "    k_inverse = tf.matrix_inverse(k, name=\"inverse\")\n",
    "    print('k: \\n%s' % k.eval())\n",
    "    print('k inverse: \\n%s\\n\\n' % k_inverse.eval())\n"
   ]
  },
  {
   "cell_type": "code",
   "execution_count": null,
   "metadata": {},
   "outputs": [],
   "source": []
  }
 ],
 "metadata": {
  "kernelspec": {
   "display_name": "Python 3",
   "language": "python",
   "name": "python3"
  },
  "language_info": {
   "codemirror_mode": {
    "name": "ipython",
    "version": 3
   },
   "file_extension": ".py",
   "mimetype": "text/x-python",
   "name": "python",
   "nbconvert_exporter": "python",
   "pygments_lexer": "ipython3",
   "version": "3.6.4"
  }
 },
 "nbformat": 4,
 "nbformat_minor": 2
}
